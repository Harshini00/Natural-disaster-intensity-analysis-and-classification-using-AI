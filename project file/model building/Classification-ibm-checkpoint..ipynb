{
 "cells": [
  {
   "cell_type": "code",
   "execution_count": 1,
   "id": "73e03405",
   "metadata": {},
   "outputs": [
    {
     "data": {
      "text/plain": [
       "'C:\\\\Users\\\\DELL\\\\Desktop\\\\emoji\\\\Flask\\\\model building'"
      ]
     },
     "execution_count": 1,
     "metadata": {},
     "output_type": "execute_result"
    }
   ],
   "source": [
    "pwd"
   ]
  },
  {
   "cell_type": "code",
   "execution_count": 2,
   "id": "4c2b1d34",
   "metadata": {},
   "outputs": [
    {
     "name": "stdout",
     "output_type": "stream",
     "text": [
      "Defaulting to user installation because normal site-packages is not writeable\n",
      "Requirement already satisfied: keras in c:\\users\\dell\\appdata\\roaming\\python\\python311\\site-packages (2.13.1)\n",
      "Defaulting to user installation because normal site-packages is not writeable\n",
      "Requirement already satisfied: tensorflow in c:\\users\\dell\\appdata\\roaming\\python\\python311\\site-packages (2.13.0)\n",
      "Requirement already satisfied: tensorflow-intel==2.13.0 in c:\\users\\dell\\appdata\\roaming\\python\\python311\\site-packages (from tensorflow) (2.13.0)\n",
      "Requirement already satisfied: absl-py>=1.0.0 in c:\\users\\dell\\appdata\\roaming\\python\\python311\\site-packages (from tensorflow-intel==2.13.0->tensorflow) (1.4.0)\n",
      "Requirement already satisfied: astunparse>=1.6.0 in c:\\users\\dell\\appdata\\roaming\\python\\python311\\site-packages (from tensorflow-intel==2.13.0->tensorflow) (1.6.3)\n",
      "Requirement already satisfied: flatbuffers>=23.1.21 in c:\\users\\dell\\appdata\\roaming\\python\\python311\\site-packages (from tensorflow-intel==2.13.0->tensorflow) (23.5.26)\n",
      "Requirement already satisfied: gast<=0.4.0,>=0.2.1 in c:\\users\\dell\\appdata\\roaming\\python\\python311\\site-packages (from tensorflow-intel==2.13.0->tensorflow) (0.4.0)\n",
      "Requirement already satisfied: google-pasta>=0.1.1 in c:\\users\\dell\\appdata\\roaming\\python\\python311\\site-packages (from tensorflow-intel==2.13.0->tensorflow) (0.2.0)\n",
      "Requirement already satisfied: h5py>=2.9.0 in c:\\users\\dell\\appdata\\roaming\\python\\python311\\site-packages (from tensorflow-intel==2.13.0->tensorflow) (3.9.0)\n",
      "Requirement already satisfied: libclang>=13.0.0 in c:\\users\\dell\\appdata\\roaming\\python\\python311\\site-packages (from tensorflow-intel==2.13.0->tensorflow) (16.0.6)\n",
      "Requirement already satisfied: numpy<=1.24.3,>=1.22 in c:\\users\\dell\\appdata\\roaming\\python\\python311\\site-packages (from tensorflow-intel==2.13.0->tensorflow) (1.24.3)\n",
      "Requirement already satisfied: opt-einsum>=2.3.2 in c:\\users\\dell\\appdata\\roaming\\python\\python311\\site-packages (from tensorflow-intel==2.13.0->tensorflow) (3.3.0)\n",
      "Requirement already satisfied: packaging in c:\\users\\dell\\appdata\\roaming\\python\\python311\\site-packages (from tensorflow-intel==2.13.0->tensorflow) (23.1)\n",
      "Requirement already satisfied: protobuf!=4.21.0,!=4.21.1,!=4.21.2,!=4.21.3,!=4.21.4,!=4.21.5,<5.0.0dev,>=3.20.3 in c:\\users\\dell\\appdata\\roaming\\python\\python311\\site-packages (from tensorflow-intel==2.13.0->tensorflow) (4.23.4)\n",
      "Requirement already satisfied: setuptools in f:\\conda\\lib\\site-packages (from tensorflow-intel==2.13.0->tensorflow) (67.8.0)\n",
      "Requirement already satisfied: six>=1.12.0 in c:\\users\\dell\\appdata\\roaming\\python\\python311\\site-packages (from tensorflow-intel==2.13.0->tensorflow) (1.16.0)\n",
      "Requirement already satisfied: termcolor>=1.1.0 in c:\\users\\dell\\appdata\\roaming\\python\\python311\\site-packages (from tensorflow-intel==2.13.0->tensorflow) (2.3.0)\n",
      "Requirement already satisfied: typing-extensions<4.6.0,>=3.6.6 in c:\\users\\dell\\appdata\\roaming\\python\\python311\\site-packages (from tensorflow-intel==2.13.0->tensorflow) (4.5.0)\n",
      "Requirement already satisfied: wrapt>=1.11.0 in c:\\users\\dell\\appdata\\roaming\\python\\python311\\site-packages (from tensorflow-intel==2.13.0->tensorflow) (1.15.0)\n",
      "Requirement already satisfied: grpcio<2.0,>=1.24.3 in c:\\users\\dell\\appdata\\roaming\\python\\python311\\site-packages (from tensorflow-intel==2.13.0->tensorflow) (1.56.2)\n",
      "Requirement already satisfied: tensorboard<2.14,>=2.13 in c:\\users\\dell\\appdata\\roaming\\python\\python311\\site-packages (from tensorflow-intel==2.13.0->tensorflow) (2.13.0)\n",
      "Requirement already satisfied: tensorflow-estimator<2.14,>=2.13.0 in c:\\users\\dell\\appdata\\roaming\\python\\python311\\site-packages (from tensorflow-intel==2.13.0->tensorflow) (2.13.0)\n",
      "Requirement already satisfied: keras<2.14,>=2.13.1 in c:\\users\\dell\\appdata\\roaming\\python\\python311\\site-packages (from tensorflow-intel==2.13.0->tensorflow) (2.13.1)\n",
      "Requirement already satisfied: tensorflow-io-gcs-filesystem>=0.23.1 in c:\\users\\dell\\appdata\\roaming\\python\\python311\\site-packages (from tensorflow-intel==2.13.0->tensorflow) (0.31.0)\n",
      "Requirement already satisfied: wheel<1.0,>=0.23.0 in c:\\users\\dell\\appdata\\roaming\\python\\python311\\site-packages (from astunparse>=1.6.0->tensorflow-intel==2.13.0->tensorflow) (0.41.0)\n",
      "Requirement already satisfied: google-auth<3,>=1.6.3 in c:\\users\\dell\\appdata\\roaming\\python\\python311\\site-packages (from tensorboard<2.14,>=2.13->tensorflow-intel==2.13.0->tensorflow) (2.22.0)\n",
      "Requirement already satisfied: google-auth-oauthlib<1.1,>=0.5 in c:\\users\\dell\\appdata\\roaming\\python\\python311\\site-packages (from tensorboard<2.14,>=2.13->tensorflow-intel==2.13.0->tensorflow) (1.0.0)\n",
      "Requirement already satisfied: markdown>=2.6.8 in c:\\users\\dell\\appdata\\roaming\\python\\python311\\site-packages (from tensorboard<2.14,>=2.13->tensorflow-intel==2.13.0->tensorflow) (3.4.4)\n",
      "Requirement already satisfied: requests<3,>=2.21.0 in c:\\users\\dell\\appdata\\roaming\\python\\python311\\site-packages (from tensorboard<2.14,>=2.13->tensorflow-intel==2.13.0->tensorflow) (2.31.0)\n",
      "Requirement already satisfied: tensorboard-data-server<0.8.0,>=0.7.0 in c:\\users\\dell\\appdata\\roaming\\python\\python311\\site-packages (from tensorboard<2.14,>=2.13->tensorflow-intel==2.13.0->tensorflow) (0.7.1)\n",
      "Requirement already satisfied: werkzeug>=1.0.1 in c:\\users\\dell\\appdata\\roaming\\python\\python311\\site-packages (from tensorboard<2.14,>=2.13->tensorflow-intel==2.13.0->tensorflow) (2.3.6)\n",
      "Requirement already satisfied: cachetools<6.0,>=2.0.0 in c:\\users\\dell\\appdata\\roaming\\python\\python311\\site-packages (from google-auth<3,>=1.6.3->tensorboard<2.14,>=2.13->tensorflow-intel==2.13.0->tensorflow) (5.3.1)\n",
      "Requirement already satisfied: pyasn1-modules>=0.2.1 in c:\\users\\dell\\appdata\\roaming\\python\\python311\\site-packages (from google-auth<3,>=1.6.3->tensorboard<2.14,>=2.13->tensorflow-intel==2.13.0->tensorflow) (0.3.0)\n",
      "Requirement already satisfied: rsa<5,>=3.1.4 in c:\\users\\dell\\appdata\\roaming\\python\\python311\\site-packages (from google-auth<3,>=1.6.3->tensorboard<2.14,>=2.13->tensorflow-intel==2.13.0->tensorflow) (4.9)\n",
      "Requirement already satisfied: urllib3<2.0 in c:\\users\\dell\\appdata\\roaming\\python\\python311\\site-packages (from google-auth<3,>=1.6.3->tensorboard<2.14,>=2.13->tensorflow-intel==2.13.0->tensorflow) (1.26.16)\n",
      "Requirement already satisfied: requests-oauthlib>=0.7.0 in c:\\users\\dell\\appdata\\roaming\\python\\python311\\site-packages (from google-auth-oauthlib<1.1,>=0.5->tensorboard<2.14,>=2.13->tensorflow-intel==2.13.0->tensorflow) (1.3.1)\n",
      "Requirement already satisfied: charset-normalizer<4,>=2 in c:\\users\\dell\\appdata\\roaming\\python\\python311\\site-packages (from requests<3,>=2.21.0->tensorboard<2.14,>=2.13->tensorflow-intel==2.13.0->tensorflow) (3.2.0)\n",
      "Requirement already satisfied: idna<4,>=2.5 in c:\\users\\dell\\appdata\\roaming\\python\\python311\\site-packages (from requests<3,>=2.21.0->tensorboard<2.14,>=2.13->tensorflow-intel==2.13.0->tensorflow) (3.4)\n",
      "Requirement already satisfied: certifi>=2017.4.17 in c:\\users\\dell\\appdata\\roaming\\python\\python311\\site-packages (from requests<3,>=2.21.0->tensorboard<2.14,>=2.13->tensorflow-intel==2.13.0->tensorflow) (2023.7.22)\n",
      "Requirement already satisfied: MarkupSafe>=2.1.1 in c:\\users\\dell\\appdata\\roaming\\python\\python311\\site-packages (from werkzeug>=1.0.1->tensorboard<2.14,>=2.13->tensorflow-intel==2.13.0->tensorflow) (2.1.3)\n",
      "Requirement already satisfied: pyasn1<0.6.0,>=0.4.6 in c:\\users\\dell\\appdata\\roaming\\python\\python311\\site-packages (from pyasn1-modules>=0.2.1->google-auth<3,>=1.6.3->tensorboard<2.14,>=2.13->tensorflow-intel==2.13.0->tensorflow) (0.5.0)\n",
      "Requirement already satisfied: oauthlib>=3.0.0 in c:\\users\\dell\\appdata\\roaming\\python\\python311\\site-packages (from requests-oauthlib>=0.7.0->google-auth-oauthlib<1.1,>=0.5->tensorboard<2.14,>=2.13->tensorflow-intel==2.13.0->tensorflow) (3.2.2)\n"
     ]
    }
   ],
   "source": [
    "!pip install keras\n",
    "!pip install tensorflow"
   ]
  },
  {
   "cell_type": "code",
   "execution_count": 3,
   "id": "b209ce3f",
   "metadata": {},
   "outputs": [],
   "source": [
    "import tensorflow"
   ]
  },
  {
   "cell_type": "code",
   "execution_count": 4,
   "id": "4dc75797",
   "metadata": {},
   "outputs": [],
   "source": [
    "from keras.preprocessing.image import ImageDataGenerator\n",
    "from keras.models import Sequential\n",
    "from keras.layers import Dense, Flatten\n",
    "from keras.layers import Conv2D, MaxPool2D\n",
    "from tensorflow.keras import layers\n",
    "from keras.layers import Dropout\n",
    "from keras.models import load_model\n",
    "import numpy as np"
   ]
  },
  {
   "cell_type": "code",
   "execution_count": 5,
   "id": "697cf619",
   "metadata": {},
   "outputs": [],
   "source": [
    "train_datagen = ImageDataGenerator(rescale=1./255,shear_range=0.2,zoom_range=0.2,horizontal_flip=True)\n",
    "\n",
    "test_datagen = ImageDataGenerator(rescale=1./255)"
   ]
  },
  {
   "cell_type": "code",
   "execution_count": 13,
   "id": "c31a1898",
   "metadata": {},
   "outputs": [],
   "source": [
    "import os\n",
    "filenames = os.listdir('C:/Users/DELL/Desktop/emoji/dataset/train_set')"
   ]
  },
  {
   "cell_type": "code",
   "execution_count": 14,
   "id": "c46682fe",
   "metadata": {},
   "outputs": [
    {
     "name": "stdout",
     "output_type": "stream",
     "text": [
      "Found 742 images belonging to 4 classes.\n",
      "Found 198 images belonging to 4 classes.\n"
     ]
    }
   ],
   "source": [
    "train_ds = train_datagen.flow_from_directory('C:/Users/DELL/Desktop/emoji/dataset/train_set', target_size=(64, 64), class_mode='categorical', batch_size=5, color_mode='rgb')\n",
    "\n",
    "test_ds = train_datagen.flow_from_directory('C:/Users/DELL/Desktop/emoji/dataset/test_set', target_size=(64, 64), class_mode='categorical', batch_size=5, color_mode='rgb')"
   ]
  },
  {
   "cell_type": "code",
   "execution_count": 15,
   "id": "4ab76de2",
   "metadata": {},
   "outputs": [],
   "source": [
    "model = Sequential()"
   ]
  },
  {
   "cell_type": "code",
   "execution_count": 16,
   "id": "de196636",
   "metadata": {},
   "outputs": [],
   "source": [
    "model.add(Conv2D(32,(3,3), input_shape=(64, 64, 3), activation='relu'))\n",
    "model.add(MaxPool2D(2,2))\n",
    "model.add(Dropout(0.2))\n",
    "model.add(Conv2D(32,(3,3), activation='relu'))\n",
    "model.add(MaxPool2D(2,2))\n",
    "model.add(Dropout(0.3))\n",
    "model.add(Flatten())\n",
    "model.add(Dense(128, activation='relu'))\n",
    "model.add(Dropout(0.5))\n",
    "model.add(Dense(4, activation='softmax'))"
   ]
  },
  {
   "cell_type": "code",
   "execution_count": 17,
   "id": "b06362ce",
   "metadata": {},
   "outputs": [
    {
     "name": "stdout",
     "output_type": "stream",
     "text": [
      "Model: \"sequential\"\n",
      "_________________________________________________________________\n",
      " Layer (type)                Output Shape              Param #   \n",
      "=================================================================\n",
      " conv2d (Conv2D)             (None, 62, 62, 32)        896       \n",
      "                                                                 \n",
      " max_pooling2d (MaxPooling2  (None, 31, 31, 32)        0         \n",
      " D)                                                              \n",
      "                                                                 \n",
      " dropout (Dropout)           (None, 31, 31, 32)        0         \n",
      "                                                                 \n",
      " conv2d_1 (Conv2D)           (None, 29, 29, 32)        9248      \n",
      "                                                                 \n",
      " max_pooling2d_1 (MaxPoolin  (None, 14, 14, 32)        0         \n",
      " g2D)                                                            \n",
      "                                                                 \n",
      " dropout_1 (Dropout)         (None, 14, 14, 32)        0         \n",
      "                                                                 \n",
      " flatten (Flatten)           (None, 6272)              0         \n",
      "                                                                 \n",
      " dense (Dense)               (None, 128)               802944    \n",
      "                                                                 \n",
      " dropout_2 (Dropout)         (None, 128)               0         \n",
      "                                                                 \n",
      " dense_1 (Dense)             (None, 4)                 516       \n",
      "                                                                 \n",
      "=================================================================\n",
      "Total params: 813604 (3.10 MB)\n",
      "Trainable params: 813604 (3.10 MB)\n",
      "Non-trainable params: 0 (0.00 Byte)\n",
      "_________________________________________________________________\n"
     ]
    }
   ],
   "source": [
    "model.summary()"
   ]
  },
  {
   "cell_type": "code",
   "execution_count": 18,
   "id": "f30970cc",
   "metadata": {},
   "outputs": [],
   "source": [
    "model.compile(optimizer='adam', loss='categorical_crossentropy', metrics=['accuracy'])"
   ]
  },
  {
   "cell_type": "code",
   "execution_count": 19,
   "id": "2f3f648b",
   "metadata": {},
   "outputs": [
    {
     "name": "stdout",
     "output_type": "stream",
     "text": [
      "Epoch 1/20\n",
      "149/149 [==============================] - 46s 294ms/step - loss: 1.2834 - accuracy: 0.4070 - val_loss: 1.2977 - val_accuracy: 0.5051\n",
      "Epoch 2/20\n",
      "149/149 [==============================] - 23s 154ms/step - loss: 1.1177 - accuracy: 0.5256 - val_loss: 1.0927 - val_accuracy: 0.5253\n",
      "Epoch 3/20\n",
      "149/149 [==============================] - 23s 153ms/step - loss: 1.0120 - accuracy: 0.5849 - val_loss: 0.9978 - val_accuracy: 0.5505\n",
      "Epoch 4/20\n",
      "149/149 [==============================] - 23s 155ms/step - loss: 0.9135 - accuracy: 0.6213 - val_loss: 0.9136 - val_accuracy: 0.6111\n",
      "Epoch 5/20\n",
      "149/149 [==============================] - 24s 158ms/step - loss: 0.8382 - accuracy: 0.6482 - val_loss: 0.8087 - val_accuracy: 0.6313\n",
      "Epoch 6/20\n",
      "149/149 [==============================] - 23s 157ms/step - loss: 0.7421 - accuracy: 0.6914 - val_loss: 0.7784 - val_accuracy: 0.6616\n",
      "Epoch 7/20\n",
      "149/149 [==============================] - 24s 159ms/step - loss: 0.7211 - accuracy: 0.7089 - val_loss: 0.7693 - val_accuracy: 0.6667\n",
      "Epoch 8/20\n",
      "149/149 [==============================] - 24s 162ms/step - loss: 0.6770 - accuracy: 0.7332 - val_loss: 0.7034 - val_accuracy: 0.7273\n",
      "Epoch 9/20\n",
      "149/149 [==============================] - 24s 157ms/step - loss: 0.6822 - accuracy: 0.7439 - val_loss: 0.6378 - val_accuracy: 0.7576\n",
      "Epoch 10/20\n",
      "149/149 [==============================] - 22s 149ms/step - loss: 0.6149 - accuracy: 0.7601 - val_loss: 0.5980 - val_accuracy: 0.7576\n",
      "Epoch 11/20\n",
      "149/149 [==============================] - 22s 151ms/step - loss: 0.5706 - accuracy: 0.7925 - val_loss: 0.6174 - val_accuracy: 0.7576\n",
      "Epoch 12/20\n",
      "149/149 [==============================] - 22s 150ms/step - loss: 0.6020 - accuracy: 0.7642 - val_loss: 0.6634 - val_accuracy: 0.7273\n",
      "Epoch 13/20\n",
      "149/149 [==============================] - 22s 150ms/step - loss: 0.5790 - accuracy: 0.7722 - val_loss: 0.5566 - val_accuracy: 0.7626\n",
      "Epoch 14/20\n",
      "149/149 [==============================] - 23s 150ms/step - loss: 0.4913 - accuracy: 0.8288 - val_loss: 0.6311 - val_accuracy: 0.7323\n",
      "Epoch 15/20\n",
      "149/149 [==============================] - 22s 150ms/step - loss: 0.4769 - accuracy: 0.8154 - val_loss: 0.6698 - val_accuracy: 0.8030\n",
      "Epoch 16/20\n",
      "149/149 [==============================] - 22s 149ms/step - loss: 0.5075 - accuracy: 0.8032 - val_loss: 0.7291 - val_accuracy: 0.7323\n",
      "Epoch 17/20\n",
      "149/149 [==============================] - 22s 148ms/step - loss: 0.4438 - accuracy: 0.8302 - val_loss: 0.6029 - val_accuracy: 0.8030\n",
      "Epoch 18/20\n",
      "149/149 [==============================] - 22s 150ms/step - loss: 0.4920 - accuracy: 0.8100 - val_loss: 0.6000 - val_accuracy: 0.7576\n",
      "Epoch 19/20\n",
      "149/149 [==============================] - 22s 147ms/step - loss: 0.4314 - accuracy: 0.8383 - val_loss: 0.6019 - val_accuracy: 0.8030\n",
      "Epoch 20/20\n",
      "149/149 [==============================] - 23s 152ms/step - loss: 0.4145 - accuracy: 0.8410 - val_loss: 0.5348 - val_accuracy: 0.8081\n"
     ]
    }
   ],
   "source": [
    "history = model.fit(train_ds,\n",
    "                    steps_per_epoch = len(train_ds),\n",
    "                    epochs = 20,\n",
    "                    validation_data = test_ds,\n",
    "                    validation_steps = len(test_ds))"
   ]
  },
  {
   "cell_type": "code",
   "execution_count": 20,
   "id": "76284ddf",
   "metadata": {},
   "outputs": [
    {
     "name": "stderr",
     "output_type": "stream",
     "text": [
      "C:\\Users\\DELL\\AppData\\Roaming\\Python\\Python311\\site-packages\\keras\\src\\engine\\training.py:3000: UserWarning: You are saving your model as an HDF5 file via `model.save()`. This file format is considered legacy. We recommend using instead the native Keras format, e.g. `model.save('my_model.keras')`.\n",
      "  saving_api.save_model(\n"
     ]
    }
   ],
   "source": [
    "model.save('model.h5')"
   ]
  },
  {
   "cell_type": "code",
   "execution_count": 21,
   "id": "e9fb33cc",
   "metadata": {},
   "outputs": [
    {
     "name": "stderr",
     "output_type": "stream",
     "text": [
      "a model.h5\n"
     ]
    }
   ],
   "source": [
    "!tar -zcvf model.tgz model.h5"
   ]
  },
  {
   "cell_type": "code",
   "execution_count": 22,
   "id": "1bb6b543",
   "metadata": {},
   "outputs": [
    {
     "name": "stdout",
     "output_type": "stream",
     "text": [
      " Volume in drive C is OS\n",
      " Volume Serial Number is B259-6040\n",
      "\n",
      " Directory of C:\\Users\\DELL\\Desktop\\emoji\\Flask\\model building\n",
      "\n"
     ]
    },
    {
     "name": "stderr",
     "output_type": "stream",
     "text": [
      "File Not Found\n"
     ]
    }
   ],
   "source": [
    "ls -la"
   ]
  },
  {
   "cell_type": "code",
   "execution_count": 23,
   "id": "5036a862",
   "metadata": {},
   "outputs": [
    {
     "name": "stdout",
     "output_type": "stream",
     "text": [
      "40/40 [==============================] - 4s 100ms/step - loss: 0.5257 - accuracy: 0.8131\n"
     ]
    }
   ],
   "source": [
    "result = model.evaluate(test_ds)"
   ]
  },
  {
   "cell_type": "code",
   "execution_count": 24,
   "id": "f41bc180",
   "metadata": {},
   "outputs": [
    {
     "data": {
      "image/png": "[encoded data removed]",
      "text/plain": [
       "<Figure size 1000x700 with 1 Axes>"
      ]
     },
     "metadata": {},
     "output_type": "display_data"
    }
   ],
   "source": [
    "import pandas as pd\n",
    "pd.DataFrame(history.history).plot(figsize=(10, 7));"
   ]
  },
  {
   "cell_type": "code",
   "execution_count": 26,
   "id": "149c71ea",
   "metadata": {},
   "outputs": [
    {
     "name": "stdout",
     "output_type": "stream",
     "text": [
      "Defaulting to user installation because normal site-packages is not writeable\n",
      "Requirement already satisfied: watson-machine-learning-client in c:\\users\\dell\\appdata\\roaming\\python\\python311\\site-packages (1.0.391)\n",
      "Requirement already satisfied: requests in c:\\users\\dell\\appdata\\roaming\\python\\python311\\site-packages (from watson-machine-learning-client) (2.31.0)\n",
      "Requirement already satisfied: urllib3 in c:\\users\\dell\\appdata\\roaming\\python\\python311\\site-packages (from watson-machine-learning-client) (1.26.16)\n",
      "Requirement already satisfied: pandas in c:\\users\\dell\\appdata\\roaming\\python\\python311\\site-packages (from watson-machine-learning-client) (2.0.3)\n",
      "Requirement already satisfied: certifi in c:\\users\\dell\\appdata\\roaming\\python\\python311\\site-packages (from watson-machine-learning-client) (2023.7.22)\n",
      "Requirement already satisfied: tqdm in f:\\conda\\lib\\site-packages (from watson-machine-learning-client) (4.65.0)\n",
      "Requirement already satisfied: lomond in c:\\users\\dell\\appdata\\roaming\\python\\python311\\site-packages (from watson-machine-learning-client) (0.3.3)\n",
      "Requirement already satisfied: tabulate in f:\\conda\\lib\\site-packages (from watson-machine-learning-client) (0.8.10)\n",
      "Requirement already satisfied: ibm-cos-sdk in c:\\users\\dell\\appdata\\roaming\\python\\python311\\site-packages (from watson-machine-learning-client) (2.13.1)\n",
      "Requirement already satisfied: boto3 in f:\\conda\\lib\\site-packages (from watson-machine-learning-client) (1.24.28)\n",
      "Requirement already satisfied: botocore<1.28.0,>=1.27.28 in f:\\conda\\lib\\site-packages (from boto3->watson-machine-learning-client) (1.27.59)\n",
      "Requirement already satisfied: jmespath<2.0.0,>=0.7.1 in f:\\conda\\lib\\site-packages (from boto3->watson-machine-learning-client) (0.10.0)\n",
      "Requirement already satisfied: s3transfer<0.7.0,>=0.6.0 in f:\\conda\\lib\\site-packages (from boto3->watson-machine-learning-client) (0.6.0)\n",
      "Requirement already satisfied: ibm-cos-sdk-core==2.13.1 in c:\\users\\dell\\appdata\\roaming\\python\\python311\\site-packages (from ibm-cos-sdk->watson-machine-learning-client) (2.13.1)\n",
      "Requirement already satisfied: ibm-cos-sdk-s3transfer==2.13.1 in c:\\users\\dell\\appdata\\roaming\\python\\python311\\site-packages (from ibm-cos-sdk->watson-machine-learning-client) (2.13.1)\n",
      "Requirement already satisfied: python-dateutil<3.0.0,>=2.8.2 in c:\\users\\dell\\appdata\\roaming\\python\\python311\\site-packages (from ibm-cos-sdk-core==2.13.1->ibm-cos-sdk->watson-machine-learning-client) (2.8.2)\n",
      "Requirement already satisfied: charset-normalizer<4,>=2 in c:\\users\\dell\\appdata\\roaming\\python\\python311\\site-packages (from requests->watson-machine-learning-client) (3.2.0)\n",
      "Requirement already satisfied: idna<4,>=2.5 in c:\\users\\dell\\appdata\\roaming\\python\\python311\\site-packages (from requests->watson-machine-learning-client) (3.4)\n",
      "Requirement already satisfied: six>=1.10.0 in c:\\users\\dell\\appdata\\roaming\\python\\python311\\site-packages (from lomond->watson-machine-learning-client) (1.16.0)\n",
      "Requirement already satisfied: pytz>=2020.1 in c:\\users\\dell\\appdata\\roaming\\python\\python311\\site-packages (from pandas->watson-machine-learning-client) (2023.3)\n",
      "Requirement already satisfied: tzdata>=2022.1 in c:\\users\\dell\\appdata\\roaming\\python\\python311\\site-packages (from pandas->watson-machine-learning-client) (2023.3)\n",
      "Requirement already satisfied: numpy>=1.21.0 in c:\\users\\dell\\appdata\\roaming\\python\\python311\\site-packages (from pandas->watson-machine-learning-client) (1.24.3)\n",
      "Requirement already satisfied: colorama in c:\\users\\dell\\appdata\\roaming\\python\\python311\\site-packages (from tqdm->watson-machine-learning-client) (0.4.6)\n"
     ]
    }
   ],
   "source": [
    "!pip install watson-machine-learning-client --upgrade"
   ]
  },
  {
   "cell_type": "code",
   "execution_count": 35,
   "id": "c368cced",
   "metadata": {},
   "outputs": [
    {
     "name": "stdout",
     "output_type": "stream",
     "text": [
      "Defaulting to user installation because normal site-packages is not writeable\n",
      "Requirement already satisfied: ibm-watson-machine-learning in c:\\users\\dell\\appdata\\roaming\\python\\python311\\site-packages (1.0.311)\n",
      "Requirement already satisfied: requests in c:\\users\\dell\\appdata\\roaming\\python\\python311\\site-packages (from ibm-watson-machine-learning) (2.31.0)\n",
      "Requirement already satisfied: urllib3 in c:\\users\\dell\\appdata\\roaming\\python\\python311\\site-packages (from ibm-watson-machine-learning) (1.26.16)\n",
      "Requirement already satisfied: pandas<1.6.0,>=0.24.2 in c:\\users\\dell\\appdata\\roaming\\python\\python311\\site-packages (from ibm-watson-machine-learning) (1.5.3)\n",
      "Requirement already satisfied: certifi in c:\\users\\dell\\appdata\\roaming\\python\\python311\\site-packages (from ibm-watson-machine-learning) (2023.7.22)\n",
      "Requirement already satisfied: lomond in c:\\users\\dell\\appdata\\roaming\\python\\python311\\site-packages (from ibm-watson-machine-learning) (0.3.3)\n",
      "Requirement already satisfied: tabulate in f:\\conda\\lib\\site-packages (from ibm-watson-machine-learning) (0.8.10)\n",
      "Requirement already satisfied: packaging in c:\\users\\dell\\appdata\\roaming\\python\\python311\\site-packages (from ibm-watson-machine-learning) (23.1)\n",
      "Requirement already satisfied: importlib-metadata in f:\\conda\\lib\\site-packages (from ibm-watson-machine-learning) (6.0.0)\n",
      "Requirement already satisfied: ibm-cos-sdk<2.14.0,>=2.12.0 in c:\\users\\dell\\appdata\\roaming\\python\\python311\\site-packages (from ibm-watson-machine-learning) (2.13.1)\n",
      "Requirement already satisfied: ibm-cos-sdk-core==2.13.1 in c:\\users\\dell\\appdata\\roaming\\python\\python311\\site-packages (from ibm-cos-sdk<2.14.0,>=2.12.0->ibm-watson-machine-learning) (2.13.1)\n",
      "Requirement already satisfied: ibm-cos-sdk-s3transfer==2.13.1 in c:\\users\\dell\\appdata\\roaming\\python\\python311\\site-packages (from ibm-cos-sdk<2.14.0,>=2.12.0->ibm-watson-machine-learning) (2.13.1)\n",
      "Requirement already satisfied: jmespath<=1.0.1,>=0.10.0 in f:\\conda\\lib\\site-packages (from ibm-cos-sdk<2.14.0,>=2.12.0->ibm-watson-machine-learning) (0.10.0)\n",
      "Requirement already satisfied: python-dateutil<3.0.0,>=2.8.2 in c:\\users\\dell\\appdata\\roaming\\python\\python311\\site-packages (from ibm-cos-sdk-core==2.13.1->ibm-cos-sdk<2.14.0,>=2.12.0->ibm-watson-machine-learning) (2.8.2)\n",
      "Requirement already satisfied: pytz>=2020.1 in c:\\users\\dell\\appdata\\roaming\\python\\python311\\site-packages (from pandas<1.6.0,>=0.24.2->ibm-watson-machine-learning) (2023.3)\n",
      "Requirement already satisfied: numpy>=1.21.0 in c:\\users\\dell\\appdata\\roaming\\python\\python311\\site-packages (from pandas<1.6.0,>=0.24.2->ibm-watson-machine-learning) (1.24.3)\n",
      "Requirement already satisfied: charset-normalizer<4,>=2 in c:\\users\\dell\\appdata\\roaming\\python\\python311\\site-packages (from requests->ibm-watson-machine-learning) (3.2.0)\n",
      "Requirement already satisfied: idna<4,>=2.5 in c:\\users\\dell\\appdata\\roaming\\python\\python311\\site-packages (from requests->ibm-watson-machine-learning) (3.4)\n",
      "Requirement already satisfied: zipp>=0.5 in f:\\conda\\lib\\site-packages (from importlib-metadata->ibm-watson-machine-learning) (3.11.0)\n",
      "Requirement already satisfied: six>=1.10.0 in c:\\users\\dell\\appdata\\roaming\\python\\python311\\site-packages (from lomond->ibm-watson-machine-learning) (1.16.0)\n"
     ]
    }
   ],
   "source": [
    "!pip install -U ibm-watson-machine-learning"
   ]
  },
  {
   "cell_type": "code",
   "execution_count": 39,
   "id": "cd192b9a",
   "metadata": {},
   "outputs": [
    {
     "name": "stderr",
     "output_type": "stream",
     "text": [
      "Error getting IAM Token.\n",
      "Reason: <Response [400]>\n"
     ]
    },
    {
     "ename": "WMLClientError",
     "evalue": "Error getting IAM Token.\nReason: <Response [400]>",
     "output_type": "error",
     "traceback": [
      "\u001b[1;31m---------------------------------------------------------------------------\u001b[0m",
      "\u001b[1;31mWMLClientError\u001b[0m                            Traceback (most recent call last)",
      "Cell \u001b[1;32mIn[39], line 6\u001b[0m\n\u001b[0;32m      1\u001b[0m \u001b[38;5;28;01mfrom\u001b[39;00m \u001b[38;5;21;01mibm_watson_machine_learning\u001b[39;00m \u001b[38;5;28;01mimport\u001b[39;00m APIClient\n\u001b[0;32m      2\u001b[0m wml_credentials \u001b[38;5;241m=\u001b[39m {\n\u001b[0;32m      3\u001b[0m     \u001b[38;5;124m\"\u001b[39m\u001b[38;5;124murl\u001b[39m\u001b[38;5;124m\"\u001b[39m : \u001b[38;5;124m\"\u001b[39m\u001b[38;5;124mhttps://us-south.ml.cloud.ibm.com\u001b[39m\u001b[38;5;124m\"\u001b[39m,\n\u001b[0;32m      4\u001b[0m     \u001b[38;5;124m\"\u001b[39m\u001b[38;5;124mapikey\u001b[39m\u001b[38;5;124m\"\u001b[39m : \u001b[38;5;124m\"\u001b[39m\u001b[38;5;124m \u001b[39m\u001b[38;5;124m\"\u001b[39m\n\u001b[0;32m      5\u001b[0m }\n\u001b[1;32m----> 6\u001b[0m client \u001b[38;5;241m=\u001b[39m APIClient(wml_credentials)\n",
      "File \u001b[1;32m~\\AppData\\Roaming\\Python\\Python311\\site-packages\\ibm_watson_machine_learning\\client.py:355\u001b[0m, in \u001b[0;36mAPIClient.__init__\u001b[1;34m(self, wml_credentials, project_id, verify)\u001b[0m\n\u001b[0;32m    352\u001b[0m     \u001b[38;5;28;01mif\u001b[39;00m \u001b[38;5;28mself\u001b[39m\u001b[38;5;241m.\u001b[39mCLOUD_PLATFORM_SPACES \u001b[38;5;129;01mor\u001b[39;00m \u001b[38;5;28mself\u001b[39m\u001b[38;5;241m.\u001b[39mICP_PLATFORM_SPACES:\n\u001b[0;32m    353\u001b[0m         \u001b[38;5;28mprint\u001b[39m(Messages\u001b[38;5;241m.\u001b[39mget_message(message_id\u001b[38;5;241m=\u001b[39m\u001b[38;5;124m\"\u001b[39m\u001b[38;5;124mpython_3_7_3_8_framework_are_deprecated\u001b[39m\u001b[38;5;124m\"\u001b[39m))\n\u001b[1;32m--> 355\u001b[0m \u001b[38;5;28mself\u001b[39m\u001b[38;5;241m.\u001b[39mservice_instance \u001b[38;5;241m=\u001b[39m ServiceInstanceNewPlan(\u001b[38;5;28mself\u001b[39m)\n\u001b[0;32m    356\u001b[0m \u001b[38;5;28mself\u001b[39m\u001b[38;5;241m.\u001b[39mvolumes \u001b[38;5;241m=\u001b[39m Volume(\u001b[38;5;28mself\u001b[39m)\n\u001b[0;32m    358\u001b[0m \u001b[38;5;28;01mif\u001b[39;00m \u001b[38;5;28mself\u001b[39m\u001b[38;5;241m.\u001b[39mICP_PLATFORM_SPACES:\n",
      "File \u001b[1;32m~\\AppData\\Roaming\\Python\\Python311\\site-packages\\ibm_watson_machine_learning\\instance_new_plan.py:40\u001b[0m, in \u001b[0;36mServiceInstanceNewPlan.__init__\u001b[1;34m(self, client)\u001b[0m\n\u001b[0;32m     30\u001b[0m     \u001b[38;5;66;03m# TODO: Check if this is used anywhere.. from initial searches, doesn't seem like\u001b[39;00m\n\u001b[0;32m     31\u001b[0m     \u001b[38;5;66;03m# self._wml_credentials[u'instance_id'] = \"999\"\u001b[39;00m\n\u001b[0;32m     32\u001b[0m \n\u001b[0;32m     33\u001b[0m \u001b[38;5;66;03m# This is used in connections.py\u001b[39;00m\n\u001b[0;32m     34\u001b[0m \u001b[38;5;28mself\u001b[39m\u001b[38;5;241m.\u001b[39m_href_definitions \u001b[38;5;241m=\u001b[39m HrefDefinitions(\u001b[38;5;28mself\u001b[39m\u001b[38;5;241m.\u001b[39m_client,\n\u001b[0;32m     35\u001b[0m                                          \u001b[38;5;28mself\u001b[39m\u001b[38;5;241m.\u001b[39m_client\u001b[38;5;241m.\u001b[39mCLOUD_PLATFORM_SPACES,\n\u001b[0;32m     36\u001b[0m                                          \u001b[38;5;28mself\u001b[39m\u001b[38;5;241m.\u001b[39m_client\u001b[38;5;241m.\u001b[39mPLATFORM_URL,\n\u001b[0;32m     37\u001b[0m                                          \u001b[38;5;28mself\u001b[39m\u001b[38;5;241m.\u001b[39m_client\u001b[38;5;241m.\u001b[39mCAMS_URL,\n\u001b[0;32m     38\u001b[0m                                          \u001b[38;5;28mself\u001b[39m\u001b[38;5;241m.\u001b[39m_client\u001b[38;5;241m.\u001b[39mICP_PLATFORM_SPACES)\n\u001b[1;32m---> 40\u001b[0m \u001b[38;5;28mself\u001b[39m\u001b[38;5;241m.\u001b[39m_client\u001b[38;5;241m.\u001b[39mwml_token \u001b[38;5;241m=\u001b[39m \u001b[38;5;28mself\u001b[39m\u001b[38;5;241m.\u001b[39m_create_token()\n\u001b[0;32m     41\u001b[0m \u001b[38;5;66;03m# self._logger.info(u'Successfully prepared token: ' + self._client.wml_token)\u001b[39;00m\n\u001b[0;32m     42\u001b[0m \u001b[38;5;66;03m# ml_repository_client is initialized in repo\u001b[39;00m\n\u001b[0;32m     43\u001b[0m \u001b[38;5;28mself\u001b[39m\u001b[38;5;241m.\u001b[39mdetails \u001b[38;5;241m=\u001b[39m \u001b[38;5;28;01mNone\u001b[39;00m\n",
      "File \u001b[1;32m~\\AppData\\Roaming\\Python\\Python311\\site-packages\\ibm_watson_machine_learning\\instance_new_plan.py:208\u001b[0m, in \u001b[0;36mServiceInstanceNewPlan._create_token\u001b[1;34m(self)\u001b[0m\n\u001b[0;32m    206\u001b[0m \u001b[38;5;28;01mif\u001b[39;00m \u001b[38;5;129;01mnot\u001b[39;00m \u001b[38;5;28mself\u001b[39m\u001b[38;5;241m.\u001b[39m_client\u001b[38;5;241m.\u001b[39mICP_PLATFORM_SPACES:\n\u001b[0;32m    207\u001b[0m     \u001b[38;5;28;01mif\u001b[39;00m \u001b[38;5;28mself\u001b[39m\u001b[38;5;241m.\u001b[39m_client\u001b[38;5;241m.\u001b[39m_is_IAM():\n\u001b[1;32m--> 208\u001b[0m         \u001b[38;5;28;01mreturn\u001b[39;00m \u001b[38;5;28mself\u001b[39m\u001b[38;5;241m.\u001b[39m_get_IAM_token()\n\u001b[0;32m    209\u001b[0m     \u001b[38;5;28;01melse\u001b[39;00m:\n\u001b[0;32m    210\u001b[0m         \u001b[38;5;28;01mraise\u001b[39;00m WMLClientError(\u001b[38;5;124m'\u001b[39m\u001b[38;5;124mapikey for IAM token is not provided in credentials for the client.\u001b[39m\u001b[38;5;124m'\u001b[39m)\n",
      "File \u001b[1;32m~\\AppData\\Roaming\\Python\\Python311\\site-packages\\ibm_watson_machine_learning\\instance_new_plan.py:261\u001b[0m, in \u001b[0;36mServiceInstanceNewPlan._get_IAM_token\u001b[1;34m(self)\u001b[0m\n\u001b[0;32m    259\u001b[0m     \u001b[38;5;28mself\u001b[39m\u001b[38;5;241m.\u001b[39m_expiration_datetime \u001b[38;5;241m=\u001b[39m \u001b[38;5;28;01mNone\u001b[39;00m\n\u001b[0;32m    260\u001b[0m \u001b[38;5;28;01melse\u001b[39;00m:\n\u001b[1;32m--> 261\u001b[0m     \u001b[38;5;28;01mraise\u001b[39;00m WMLClientError(\u001b[38;5;124mu\u001b[39m\u001b[38;5;124m'\u001b[39m\u001b[38;5;124mError getting IAM Token.\u001b[39m\u001b[38;5;124m'\u001b[39m, response)\n\u001b[0;32m    262\u001b[0m \u001b[38;5;28;01mreturn\u001b[39;00m token\n",
      "\u001b[1;31mWMLClientError\u001b[0m: Error getting IAM Token.\nReason: <Response [400]>"
     ]
    }
   ],
   "source": [
    "from ibm_watson_machine_learning import APIClient\n",
    "wml_credentials = {\n",
    "    \"url\" : \"https://us-south.ml.cloud.ibm.com\",\n",
    "    \"apikey\" : \" \"\n",
    "}\n",
    "client = APIClient(wml_credentials)"
   ]
  },
  {
   "cell_type": "code",
   "execution_count": 40,
   "id": "a35f6e15",
   "metadata": {},
   "outputs": [],
   "source": [
    "def guid_from_space_name(client, space_name):\n",
    "    space = client.spaces.get_details()\n",
    "    return(next(item for item in space['resources'] if item['entity']['name'] == space_name)['metadata']['id'])"
   ]
  },
  {
   "cell_type": "code",
   "execution_count": 41,
   "id": "981106b8",
   "metadata": {},
   "outputs": [
    {
     "ename": "NameError",
     "evalue": "name 'client' is not defined",
     "output_type": "error",
     "traceback": [
      "\u001b[1;31m---------------------------------------------------------------------------\u001b[0m",
      "\u001b[1;31mNameError\u001b[0m                                 Traceback (most recent call last)",
      "Cell \u001b[1;32mIn[41], line 1\u001b[0m\n\u001b[1;32m----> 1\u001b[0m space_uid \u001b[38;5;241m=\u001b[39m guid_from_space_name(client, \u001b[38;5;124m'\u001b[39m\u001b[38;5;124mNatural Disasters Intensity Analysis And Classification\u001b[39m\u001b[38;5;124m'\u001b[39m)\n\u001b[0;32m      2\u001b[0m \u001b[38;5;28mprint\u001b[39m(\u001b[38;5;124m'\u001b[39m\u001b[38;5;124mspace uid: \u001b[39m\u001b[38;5;124m'\u001b[39m \u001b[38;5;241m+\u001b[39m space_uid)\n",
      "\u001b[1;31mNameError\u001b[0m: name 'client' is not defined"
     ]
    }
   ],
   "source": [
    "space_uid = guid_from_space_name(client, 'Natural Disasters Intensity Analysis And Classification')\n",
    "print('space uid: ' + space_uid)"
   ]
  },
  {
   "cell_type": "code",
   "execution_count": null,
   "id": "9f587640",
   "metadata": {},
   "outputs": [],
   "source": []
  }
 ],
 "metadata": {
  "kernelspec": {
   "display_name": "Python 3 (ipykernel)",
   "language": "python",
   "name": "python3"
  },
  "language_info": {
   "codemirror_mode": {
    "name": "ipython",
    "version": 3
   },
   "file_extension": ".py",
   "mimetype": "text/x-python",
   "name": "python",
   "nbconvert_exporter": "python",
   "pygments_lexer": "ipython3",
   "version": "3.11.3"
  }
 },
 "nbformat": 4,
 "nbformat_minor": 5
}
